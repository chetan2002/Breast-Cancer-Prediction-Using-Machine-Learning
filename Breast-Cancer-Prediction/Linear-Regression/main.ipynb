{
  "nbformat": 4,
  "nbformat_minor": 0,
  "metadata": {
    "colab": {
      "name": "Cancer.ipynb",
      "provenance": [],
      "collapsed_sections": [],
      "authorship_tag": "ABX9TyOv2Lg8SAas/QtckYhLZJCh",
      "include_colab_link": true
    },
    "kernelspec": {
      "name": "python3",
      "display_name": "Python 3"
    },
    "language_info": {
      "name": "python"
    }
  },
  "cells": [
    {
      "cell_type": "markdown",
      "metadata": {
        "id": "view-in-github",
        "colab_type": "text"
      },
      "source": [
        "<a href=\"https://colab.research.google.com/github/chetan2002/Breast-Cancer-Prediction-Using-Machine-Learning/blob/main/Breast-Cancer-Prediction/Linear-Regression/main.ipynb\" target=\"_parent\"><img src=\"https://colab.research.google.com/assets/colab-badge.svg\" alt=\"Open In Colab\"/></a>"
      ]
    },
    {
      "cell_type": "code",
      "metadata": {
        "id": "VXHID0NxGjBe"
      },
      "source": [
        "import matplotlib as plt\n",
        "import numpy as np\n",
        "from sklearn import datasets, linear_model\n",
        "\n",
        "bc = datasets.load_breast_cancer()\n",
        "# ['data', 'target', 'target_names', 'DESCR', 'feature_names', 'filename']\n",
        "\n",
        "bc_x = bc.data[:, np.newaxis, 2];\n",
        "bc_x_train = bc_x[:-30]\n",
        "bc_x_test = bc_x[-30:]\n",
        "\n",
        "bc_y_train = bc.target[:-30]\n",
        "bc_y_test = bc.target[-30:]\n",
        "# print(bc_x_train)\n",
        "# print(bc_y_train)\n",
        "\n",
        "model = linear_model.LinearRegression()\n",
        "\n",
        "model.fit(bc_x_train, bc_y_train)\n",
        "\n",
        "bc_y_test = model.predict(bc_x_test)\n",
        "\n"
      ],
      "execution_count": null,
      "outputs": []
    }
  ]
}