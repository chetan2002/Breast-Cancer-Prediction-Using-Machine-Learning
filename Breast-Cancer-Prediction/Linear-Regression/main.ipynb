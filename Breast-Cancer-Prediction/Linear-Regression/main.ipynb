{
  "nbformat": 4,
  "nbformat_minor": 0,
  "metadata": {
    "colab": {
      "name": "Cancer.ipynb",
      "provenance": [],
      "collapsed_sections": [],
      "authorship_tag": "ABX9TyP1jo2xGUQGKEUzWa4fWghG",
      "include_colab_link": true
    },
    "kernelspec": {
      "name": "python3",
      "display_name": "Python 3"
    },
    "language_info": {
      "name": "python"
    }
  },
  "cells": [
    {
      "cell_type": "markdown",
      "metadata": {
        "id": "view-in-github",
        "colab_type": "text"
      },
      "source": [
        "<a href=\"https://colab.research.google.com/github/chetan2002/Breast-Cancer-Prediction-Using-Machine-Learning/blob/main/Breast-Cancer-Prediction/Linear-Regression/main.ipynb\" target=\"_parent\"><img src=\"https://colab.research.google.com/assets/colab-badge.svg\" alt=\"Open In Colab\"/></a>"
      ]
    },
    {
      "cell_type": "code",
      "metadata": {
        "id": "VXHID0NxGjBe",
        "colab": {
          "base_uri": "https://localhost:8080/"
        },
        "outputId": "6959938d-8fd6-4d92-d70f-df6d0d794fca"
      },
      "source": [
        "import matplotlib.pyplot as plt\n",
        "import numpy as np\n",
        "from sklearn import datasets, linear_model\n",
        "from sklearn.metrics import mean_squared_error\n",
        "\n",
        "bc = datasets.load_breast_cancer()\n",
        "# ['data', 'target', 'target_names', 'DESCR', 'feature_names', 'filename']\n",
        "\n",
        "# bc_x = bc.data[:, np.newaxis, 2];\n",
        "bc_x = bc.data;\n",
        "bc_x_train = bc_x[:-60]\n",
        "bc_x_test = bc_x[-60:]\n",
        "\n",
        "bc_y_train = bc.target[:-60]\n",
        "bc_y_test = bc.target[-60:]\n",
        "# print(bc_x_train)\n",
        "# print(bc_y_train)\n",
        "\n",
        "model = linear_model.LinearRegression()\n",
        "\n",
        "model.fit(bc_x_train, bc_y_train)\n",
        "\n",
        "bc_y_predicted = model.predict(bc_x_test)\n",
        "\n",
        "print(\"Mean Squared Error is : \", mean_squared_error(bc_y_test, bc_y_predicted))\n",
        "\n",
        "print(\"Weights: \", model.coef_)\n",
        "print(\"Intercept: \", model.intercept_)\n",
        "\n",
        "# plt.scatter(bc_x_test, bc_y_test)\n",
        "# plt.plot(bc_x_test, bc_y_predicted)\n",
        "# plt.show()\n"
      ],
      "execution_count": 23,
      "outputs": [
        {
          "output_type": "stream",
          "name": "stdout",
          "text": [
            "Mean Squared Error is :  0.05951869112479351\n",
            "Weights:  [ 2.18934330e-01 -1.11648773e-02 -2.27310431e-02 -4.20399875e-04\n",
            " -1.22980299e+00  4.55135149e+00 -1.82567646e+00 -1.13400058e+00\n",
            "  7.94968502e-02 -9.62552248e-01 -4.30412883e-01 -4.63594054e-03\n",
            "  3.20129752e-02  5.53358708e-04 -1.49733446e+01  7.58459491e-01\n",
            "  4.25891930e+00 -1.56632979e+01 -5.48743299e-01  3.44812407e+00\n",
            " -1.94419528e-01 -2.94811432e-03 -8.94134645e-05  1.12714080e-03\n",
            " -4.80155053e-01 -2.58788238e-01 -3.33827634e-01 -1.34718814e-01\n",
            " -7.68235691e-01 -3.79717456e+00]\n",
            "Intercept:  3.2501763158285266\n"
          ]
        }
      ]
    }
  ]
}